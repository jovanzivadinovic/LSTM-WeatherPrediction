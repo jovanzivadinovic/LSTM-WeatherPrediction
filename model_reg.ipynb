{
 "cells": [
  {
   "cell_type": "code",
   "execution_count": 84,
   "metadata": {},
   "outputs": [],
   "source": [
    "import pandas as pd\n",
    "import numpy as np\n",
    "from sklearn.preprocessing import MinMaxScaler"
   ]
  },
  {
   "cell_type": "code",
   "execution_count": 85,
   "metadata": {},
   "outputs": [],
   "source": [
    "df = pd.read_csv(\"seattle-weather.csv\")"
   ]
  },
  {
   "cell_type": "code",
   "execution_count": 86,
   "metadata": {},
   "outputs": [],
   "source": [
    "df.index = pd.to_datetime(df.date)"
   ]
  },
  {
   "cell_type": "code",
   "execution_count": 87,
   "metadata": {},
   "outputs": [],
   "source": [
    "df.drop(['date'], axis=1, inplace=True)\n",
    "df.drop(['temp_max'], axis=1, inplace=True)\n",
    "df.drop(['temp_min'], axis=1, inplace=True)"
   ]
  },
  {
   "cell_type": "code",
   "execution_count": 88,
   "metadata": {},
   "outputs": [
    {
     "data": {
      "text/html": [
       "<div>\n",
       "<style scoped>\n",
       "    .dataframe tbody tr th:only-of-type {\n",
       "        vertical-align: middle;\n",
       "    }\n",
       "\n",
       "    .dataframe tbody tr th {\n",
       "        vertical-align: top;\n",
       "    }\n",
       "\n",
       "    .dataframe thead th {\n",
       "        text-align: right;\n",
       "    }\n",
       "</style>\n",
       "<table border=\"1\" class=\"dataframe\">\n",
       "  <thead>\n",
       "    <tr style=\"text-align: right;\">\n",
       "      <th></th>\n",
       "      <th>temp</th>\n",
       "    </tr>\n",
       "    <tr>\n",
       "      <th>date</th>\n",
       "      <th></th>\n",
       "    </tr>\n",
       "  </thead>\n",
       "  <tbody>\n",
       "    <tr>\n",
       "      <th>2012-01-01</th>\n",
       "      <td>8.90</td>\n",
       "    </tr>\n",
       "    <tr>\n",
       "      <th>2012-01-02</th>\n",
       "      <td>6.70</td>\n",
       "    </tr>\n",
       "    <tr>\n",
       "      <th>2012-01-03</th>\n",
       "      <td>9.45</td>\n",
       "    </tr>\n",
       "    <tr>\n",
       "      <th>2012-01-04</th>\n",
       "      <td>8.90</td>\n",
       "    </tr>\n",
       "    <tr>\n",
       "      <th>2012-01-05</th>\n",
       "      <td>5.85</td>\n",
       "    </tr>\n",
       "  </tbody>\n",
       "</table>\n",
       "</div>"
      ],
      "text/plain": [
       "            temp\n",
       "date            \n",
       "2012-01-01  8.90\n",
       "2012-01-02  6.70\n",
       "2012-01-03  9.45\n",
       "2012-01-04  8.90\n",
       "2012-01-05  5.85"
      ]
     },
     "execution_count": 88,
     "metadata": {},
     "output_type": "execute_result"
    }
   ],
   "source": [
    "df.head()"
   ]
  },
  {
   "cell_type": "code",
   "execution_count": 89,
   "metadata": {},
   "outputs": [],
   "source": [
    "scaler = MinMaxScaler()\n",
    "scaled_data = scaler.fit_transform(df)"
   ]
  },
  {
   "cell_type": "code",
   "execution_count": 90,
   "metadata": {},
   "outputs": [],
   "source": [
    "sequence_length = 10 \n",
    "num_features = len(df.columns)"
   ]
  },
  {
   "cell_type": "code",
   "execution_count": 91,
   "metadata": {},
   "outputs": [
    {
     "data": {
      "text/plain": [
       "array([[0.41639344],\n",
       "       [0.3442623 ],\n",
       "       [0.43442623],\n",
       "       ...,\n",
       "       [0.30655738],\n",
       "       [0.32459016],\n",
       "       [0.26229508]])"
      ]
     },
     "execution_count": 91,
     "metadata": {},
     "output_type": "execute_result"
    }
   ],
   "source": [
    "scaled_data"
   ]
  },
  {
   "cell_type": "code",
   "execution_count": 92,
   "metadata": {},
   "outputs": [],
   "source": [
    "sequences = []\n",
    "labels = []\n",
    "for i in range(len(scaled_data) - sequence_length):\n",
    "    seq = scaled_data[i:i+sequence_length]\n",
    "    label = scaled_data[i+sequence_length][0] \n",
    "    sequences.append(seq)\n",
    "    labels.append(label)"
   ]
  },
  {
   "cell_type": "code",
   "execution_count": 93,
   "metadata": {},
   "outputs": [
    {
     "data": {
      "text/plain": [
       "array([[0.35081967],\n",
       "       [0.36229508],\n",
       "       [0.35245902],\n",
       "       [0.28032787],\n",
       "       [0.25245902],\n",
       "       [0.2704918 ],\n",
       "       [0.29836066],\n",
       "       [0.34262295],\n",
       "       [0.30655738],\n",
       "       [0.32459016]])"
      ]
     },
     "execution_count": 93,
     "metadata": {},
     "output_type": "execute_result"
    }
   ],
   "source": [
    "seq"
   ]
  },
  {
   "cell_type": "code",
   "execution_count": 94,
   "metadata": {},
   "outputs": [],
   "source": [
    "sequences = np.array(sequences)\n",
    "labels = np.array(labels)"
   ]
  },
  {
   "cell_type": "code",
   "execution_count": 95,
   "metadata": {},
   "outputs": [
    {
     "name": "stdout",
     "output_type": "stream",
     "text": [
      "Train X shape: (1152, 10, 1)\n",
      "Train Y shape: (1152,)\n",
      "Test X shape: (289, 10, 1)\n",
      "Test Y shape: (289,)\n"
     ]
    }
   ],
   "source": [
    "train_size = int(0.8 * len(sequences))\n",
    "train_x, test_x = sequences[:train_size], sequences[train_size:]\n",
    "train_y, test_y = labels[:train_size], labels[train_size:]\n",
    "\n",
    "print(\"Train X shape:\", train_x.shape)\n",
    "print(\"Train Y shape:\", train_y.shape)\n",
    "print(\"Test X shape:\", test_x.shape)\n",
    "print(\"Test Y shape:\", test_y.shape)"
   ]
  },
  {
   "cell_type": "code",
   "execution_count": 96,
   "metadata": {},
   "outputs": [],
   "source": [
    "from tensorflow.keras.models import Sequential\n",
    "from tensorflow.keras.layers import LSTM, Dense\n",
    "from tensorflow.keras.callbacks import EarlyStopping\n",
    "\n",
    "\n",
    "model = Sequential()\n",
    "model.add(LSTM(units=100, input_shape=(10,1)))\n",
    "model.add(Dense(units=1))\n",
    "\n",
    "model.compile(optimizer='adam', loss='mean_squared_error')"
   ]
  },
  {
   "cell_type": "code",
   "execution_count": 97,
   "metadata": {},
   "outputs": [
    {
     "name": "stdout",
     "output_type": "stream",
     "text": [
      "Epoch 1/100\n",
      "15/15 [==============================] - 4s 63ms/step - loss: 0.0487 - val_loss: 0.0102\n",
      "Epoch 2/100\n",
      "15/15 [==============================] - 0s 19ms/step - loss: 0.0124 - val_loss: 0.0093\n",
      "Epoch 3/100\n",
      "15/15 [==============================] - 0s 20ms/step - loss: 0.0099 - val_loss: 0.0095\n",
      "Epoch 4/100\n",
      "15/15 [==============================] - 0s 20ms/step - loss: 0.0089 - val_loss: 0.0094\n",
      "Epoch 5/100\n",
      "15/15 [==============================] - 0s 20ms/step - loss: 0.0088 - val_loss: 0.0089\n",
      "Epoch 6/100\n",
      "15/15 [==============================] - 0s 30ms/step - loss: 0.0085 - val_loss: 0.0088\n",
      "Epoch 7/100\n",
      "15/15 [==============================] - 0s 21ms/step - loss: 0.0084 - val_loss: 0.0087\n",
      "Epoch 8/100\n",
      "15/15 [==============================] - 0s 22ms/step - loss: 0.0084 - val_loss: 0.0089\n",
      "Epoch 9/100\n",
      "15/15 [==============================] - 0s 22ms/step - loss: 0.0087 - val_loss: 0.0087\n",
      "Epoch 10/100\n",
      "15/15 [==============================] - 0s 21ms/step - loss: 0.0084 - val_loss: 0.0085\n",
      "Epoch 11/100\n",
      "15/15 [==============================] - 0s 21ms/step - loss: 0.0082 - val_loss: 0.0084\n",
      "Epoch 12/100\n",
      "15/15 [==============================] - 0s 22ms/step - loss: 0.0082 - val_loss: 0.0083\n",
      "Epoch 13/100\n",
      "15/15 [==============================] - 0s 26ms/step - loss: 0.0078 - val_loss: 0.0082\n",
      "Epoch 14/100\n",
      "15/15 [==============================] - 0s 29ms/step - loss: 0.0079 - val_loss: 0.0081\n",
      "Epoch 15/100\n",
      "15/15 [==============================] - 0s 21ms/step - loss: 0.0079 - val_loss: 0.0081\n",
      "Epoch 16/100\n",
      "15/15 [==============================] - 0s 26ms/step - loss: 0.0076 - val_loss: 0.0080\n",
      "Epoch 17/100\n",
      "15/15 [==============================] - 0s 24ms/step - loss: 0.0082 - val_loss: 0.0079\n",
      "Epoch 18/100\n",
      "15/15 [==============================] - 0s 24ms/step - loss: 0.0077 - val_loss: 0.0083\n",
      "Epoch 19/100\n",
      "15/15 [==============================] - 0s 22ms/step - loss: 0.0075 - val_loss: 0.0078\n",
      "Epoch 20/100\n",
      "15/15 [==============================] - 0s 25ms/step - loss: 0.0078 - val_loss: 0.0081\n",
      "Epoch 21/100\n",
      "15/15 [==============================] - 1s 34ms/step - loss: 0.0073 - val_loss: 0.0084\n",
      "Epoch 22/100\n",
      "15/15 [==============================] - 0s 24ms/step - loss: 0.0074 - val_loss: 0.0076\n",
      "Epoch 23/100\n",
      "15/15 [==============================] - 0s 21ms/step - loss: 0.0072 - val_loss: 0.0076\n",
      "Epoch 24/100\n",
      "15/15 [==============================] - 0s 21ms/step - loss: 0.0075 - val_loss: 0.0075\n",
      "Epoch 25/100\n",
      "15/15 [==============================] - 0s 23ms/step - loss: 0.0071 - val_loss: 0.0074\n",
      "Epoch 26/100\n",
      "15/15 [==============================] - 0s 23ms/step - loss: 0.0072 - val_loss: 0.0074\n",
      "Epoch 27/100\n",
      "15/15 [==============================] - 0s 23ms/step - loss: 0.0070 - val_loss: 0.0076\n",
      "Epoch 28/100\n",
      "15/15 [==============================] - 0s 24ms/step - loss: 0.0073 - val_loss: 0.0073\n",
      "Epoch 29/100\n",
      "15/15 [==============================] - 0s 21ms/step - loss: 0.0070 - val_loss: 0.0073\n",
      "Epoch 30/100\n",
      "15/15 [==============================] - 0s 23ms/step - loss: 0.0070 - val_loss: 0.0072\n",
      "Epoch 31/100\n",
      "15/15 [==============================] - 0s 21ms/step - loss: 0.0069 - val_loss: 0.0080\n",
      "Epoch 32/100\n",
      "15/15 [==============================] - 0s 22ms/step - loss: 0.0071 - val_loss: 0.0083\n",
      "Epoch 33/100\n",
      "15/15 [==============================] - 0s 22ms/step - loss: 0.0066 - val_loss: 0.0070\n",
      "Epoch 34/100\n",
      "15/15 [==============================] - 0s 23ms/step - loss: 0.0067 - val_loss: 0.0069\n",
      "Epoch 35/100\n",
      "15/15 [==============================] - 0s 21ms/step - loss: 0.0067 - val_loss: 0.0071\n",
      "Epoch 36/100\n",
      "15/15 [==============================] - 0s 20ms/step - loss: 0.0067 - val_loss: 0.0068\n",
      "Epoch 37/100\n",
      "15/15 [==============================] - 0s 21ms/step - loss: 0.0070 - val_loss: 0.0069\n",
      "Epoch 38/100\n",
      "15/15 [==============================] - 0s 22ms/step - loss: 0.0064 - val_loss: 0.0068\n",
      "Epoch 39/100\n",
      "15/15 [==============================] - 0s 22ms/step - loss: 0.0065 - val_loss: 0.0074\n",
      "Epoch 40/100\n",
      "15/15 [==============================] - 0s 23ms/step - loss: 0.0065 - val_loss: 0.0065\n",
      "Epoch 41/100\n",
      "15/15 [==============================] - 0s 23ms/step - loss: 0.0066 - val_loss: 0.0067\n",
      "Epoch 42/100\n",
      "15/15 [==============================] - 0s 21ms/step - loss: 0.0063 - val_loss: 0.0064\n",
      "Epoch 43/100\n",
      "15/15 [==============================] - 0s 23ms/step - loss: 0.0063 - val_loss: 0.0064\n",
      "Epoch 44/100\n",
      "15/15 [==============================] - 0s 31ms/step - loss: 0.0064 - val_loss: 0.0064\n",
      "Epoch 45/100\n",
      "15/15 [==============================] - 0s 22ms/step - loss: 0.0062 - val_loss: 0.0063\n",
      "Epoch 46/100\n",
      "15/15 [==============================] - 0s 20ms/step - loss: 0.0061 - val_loss: 0.0062\n",
      "Epoch 47/100\n",
      "15/15 [==============================] - 0s 22ms/step - loss: 0.0062 - val_loss: 0.0061\n",
      "Epoch 48/100\n",
      "15/15 [==============================] - 0s 23ms/step - loss: 0.0061 - val_loss: 0.0062\n",
      "Epoch 49/100\n",
      "15/15 [==============================] - 0s 22ms/step - loss: 0.0062 - val_loss: 0.0060\n",
      "Epoch 50/100\n",
      "15/15 [==============================] - 0s 23ms/step - loss: 0.0059 - val_loss: 0.0060\n",
      "Epoch 51/100\n",
      "15/15 [==============================] - 0s 21ms/step - loss: 0.0059 - val_loss: 0.0059\n",
      "Epoch 52/100\n",
      "15/15 [==============================] - 0s 23ms/step - loss: 0.0059 - val_loss: 0.0058\n",
      "Epoch 53/100\n",
      "15/15 [==============================] - 0s 23ms/step - loss: 0.0060 - val_loss: 0.0058\n",
      "Epoch 54/100\n",
      "15/15 [==============================] - 0s 23ms/step - loss: 0.0058 - val_loss: 0.0057\n",
      "Epoch 55/100\n",
      "15/15 [==============================] - 0s 22ms/step - loss: 0.0057 - val_loss: 0.0056\n",
      "Epoch 56/100\n",
      "15/15 [==============================] - 0s 22ms/step - loss: 0.0057 - val_loss: 0.0056\n",
      "Epoch 57/100\n",
      "15/15 [==============================] - 0s 23ms/step - loss: 0.0054 - val_loss: 0.0058\n",
      "Epoch 58/100\n",
      "15/15 [==============================] - 0s 26ms/step - loss: 0.0058 - val_loss: 0.0055\n",
      "Epoch 59/100\n",
      "15/15 [==============================] - 0s 21ms/step - loss: 0.0053 - val_loss: 0.0054\n",
      "Epoch 60/100\n",
      "15/15 [==============================] - 0s 21ms/step - loss: 0.0052 - val_loss: 0.0053\n",
      "Epoch 61/100\n",
      "15/15 [==============================] - 0s 21ms/step - loss: 0.0054 - val_loss: 0.0053\n",
      "Epoch 62/100\n",
      "15/15 [==============================] - 0s 21ms/step - loss: 0.0056 - val_loss: 0.0053\n",
      "Epoch 63/100\n",
      "15/15 [==============================] - 0s 31ms/step - loss: 0.0054 - val_loss: 0.0052\n",
      "Epoch 64/100\n",
      "15/15 [==============================] - 0s 21ms/step - loss: 0.0054 - val_loss: 0.0051\n",
      "Epoch 65/100\n",
      "15/15 [==============================] - 0s 22ms/step - loss: 0.0054 - val_loss: 0.0050\n",
      "Epoch 66/100\n",
      "15/15 [==============================] - 0s 23ms/step - loss: 0.0054 - val_loss: 0.0050\n",
      "Epoch 67/100\n",
      "15/15 [==============================] - 0s 22ms/step - loss: 0.0053 - val_loss: 0.0052\n",
      "Epoch 68/100\n",
      "15/15 [==============================] - 0s 23ms/step - loss: 0.0051 - val_loss: 0.0051\n",
      "Epoch 69/100\n",
      "15/15 [==============================] - 0s 22ms/step - loss: 0.0053 - val_loss: 0.0051\n",
      "Epoch 70/100\n",
      "15/15 [==============================] - 0s 22ms/step - loss: 0.0053 - val_loss: 0.0048\n",
      "Epoch 71/100\n",
      "15/15 [==============================] - 0s 21ms/step - loss: 0.0051 - val_loss: 0.0059\n",
      "Epoch 72/100\n",
      "15/15 [==============================] - 0s 22ms/step - loss: 0.0051 - val_loss: 0.0047\n",
      "Epoch 73/100\n",
      "15/15 [==============================] - 0s 24ms/step - loss: 0.0052 - val_loss: 0.0046\n",
      "Epoch 74/100\n",
      "15/15 [==============================] - 0s 22ms/step - loss: 0.0049 - val_loss: 0.0048\n",
      "Epoch 75/100\n",
      "15/15 [==============================] - 0s 23ms/step - loss: 0.0050 - val_loss: 0.0047\n",
      "Epoch 76/100\n",
      "15/15 [==============================] - 0s 24ms/step - loss: 0.0050 - val_loss: 0.0047\n",
      "Epoch 77/100\n",
      "15/15 [==============================] - 0s 30ms/step - loss: 0.0048 - val_loss: 0.0047\n",
      "Epoch 78/100\n",
      "15/15 [==============================] - 0s 23ms/step - loss: 0.0048 - val_loss: 0.0045\n",
      "Epoch 79/100\n",
      "15/15 [==============================] - 0s 23ms/step - loss: 0.0048 - val_loss: 0.0046\n",
      "Epoch 80/100\n",
      "15/15 [==============================] - 0s 21ms/step - loss: 0.0048 - val_loss: 0.0044\n",
      "Epoch 81/100\n",
      "15/15 [==============================] - 0s 21ms/step - loss: 0.0048 - val_loss: 0.0045\n",
      "Epoch 82/100\n",
      "15/15 [==============================] - 0s 22ms/step - loss: 0.0047 - val_loss: 0.0043\n",
      "Epoch 83/100\n",
      "15/15 [==============================] - 0s 23ms/step - loss: 0.0046 - val_loss: 0.0044\n",
      "Epoch 84/100\n",
      "15/15 [==============================] - 0s 21ms/step - loss: 0.0045 - val_loss: 0.0043\n",
      "Epoch 85/100\n",
      "15/15 [==============================] - 0s 23ms/step - loss: 0.0046 - val_loss: 0.0043\n",
      "Epoch 86/100\n",
      "15/15 [==============================] - 0s 21ms/step - loss: 0.0047 - val_loss: 0.0045\n",
      "Epoch 87/100\n",
      "15/15 [==============================] - 0s 23ms/step - loss: 0.0050 - val_loss: 0.0042\n",
      "Epoch 88/100\n",
      "15/15 [==============================] - 0s 22ms/step - loss: 0.0047 - val_loss: 0.0042\n",
      "Epoch 89/100\n",
      "15/15 [==============================] - 0s 22ms/step - loss: 0.0046 - val_loss: 0.0042\n",
      "Epoch 90/100\n",
      "15/15 [==============================] - 0s 22ms/step - loss: 0.0049 - val_loss: 0.0043\n",
      "Epoch 91/100\n",
      "15/15 [==============================] - 0s 22ms/step - loss: 0.0045 - val_loss: 0.0042\n",
      "Epoch 92/100\n",
      "15/15 [==============================] - 0s 23ms/step - loss: 0.0045 - val_loss: 0.0044\n",
      "Epoch 93/100\n",
      "15/15 [==============================] - 0s 22ms/step - loss: 0.0044 - val_loss: 0.0041\n",
      "Epoch 94/100\n",
      "15/15 [==============================] - 0s 22ms/step - loss: 0.0045 - val_loss: 0.0045\n",
      "Epoch 95/100\n",
      "15/15 [==============================] - 0s 22ms/step - loss: 0.0046 - val_loss: 0.0041\n",
      "Epoch 96/100\n",
      "15/15 [==============================] - 0s 31ms/step - loss: 0.0046 - val_loss: 0.0041\n",
      "Epoch 97/100\n",
      "15/15 [==============================] - 0s 22ms/step - loss: 0.0045 - val_loss: 0.0042\n",
      "Epoch 98/100\n",
      "15/15 [==============================] - 0s 22ms/step - loss: 0.0046 - val_loss: 0.0043\n",
      "Epoch 99/100\n",
      "15/15 [==============================] - 0s 23ms/step - loss: 0.0047 - val_loss: 0.0040\n",
      "Epoch 100/100\n",
      "15/15 [==============================] - 0s 24ms/step - loss: 0.0046 - val_loss: 0.0042\n"
     ]
    }
   ],
   "source": [
    "early_stopping = EarlyStopping(monitor='val_loss', patience=5)\n",
    "\n",
    "history = model.fit(\n",
    "    train_x, train_y,\n",
    "    epochs=100,\n",
    "    batch_size=64,\n",
    "    validation_split=0.2,  # Use part of the training data as validation\n",
    "    callbacks=[early_stopping]\n",
    ")"
   ]
  },
  {
   "cell_type": "code",
   "execution_count": 100,
   "metadata": {},
   "outputs": [
    {
     "name": "stdout",
     "output_type": "stream",
     "text": [
      "10/10 [==============================] - 0s 5ms/step\n",
      "Mean Absolute Error (MAE): 0.048979105913528845\n",
      "Mean Squared Error (MSE): 0.003913267947790456\n",
      "Root Mean Squared Error (RMSE): 0.06255611838813575\n",
      "R-squared (R2 score): 0.8827588915715487\n"
     ]
    }
   ],
   "source": [
    "from sklearn.metrics import mean_absolute_error, mean_squared_error, r2_score\n",
    "\n",
    "predictions = model.predict(test_x)\n",
    "\n",
    "mae = mean_absolute_error(test_y, predictions)\n",
    "mse = mean_squared_error(test_y, predictions)\n",
    "rmse = np.sqrt(mse)\n",
    "r_squared = r2_score(test_y, predictions)\n",
    "\n",
    "print(\"Mean Absolute Error (MAE):\", mae)\n",
    "print(\"Mean Squared Error (MSE):\", mse)\n",
    "print(\"Root Mean Squared Error (RMSE):\", rmse)\n",
    "print(\"R-squared (R2 score):\", r_squared)"
   ]
  }
 ],
 "metadata": {
  "kernelspec": {
   "display_name": "Python 3",
   "language": "python",
   "name": "python3"
  },
  "language_info": {
   "codemirror_mode": {
    "name": "ipython",
    "version": 3
   },
   "file_extension": ".py",
   "mimetype": "text/x-python",
   "name": "python",
   "nbconvert_exporter": "python",
   "pygments_lexer": "ipython3",
   "version": "3.11.6"
  }
 },
 "nbformat": 4,
 "nbformat_minor": 2
}
